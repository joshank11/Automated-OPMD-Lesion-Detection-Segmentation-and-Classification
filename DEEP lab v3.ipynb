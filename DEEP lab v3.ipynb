version https://git-lfs.github.com/spec/v1
oid sha256:bd778c13927ce6b99f370625b263680dd29d2985239f7abdfa658883549bf959
size 2828167
