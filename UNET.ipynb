version https://git-lfs.github.com/spec/v1
oid sha256:ff8ff3b0f21c6bc7a11c4ce720c40f670e3b5e1bc84a1d788f53cf65624e1b32
size 2776132
